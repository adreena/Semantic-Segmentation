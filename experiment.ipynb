{
 "cells": [
  {
   "cell_type": "code",
   "execution_count": 1,
   "metadata": {},
   "outputs": [
    {
     "name": "stdout",
     "output_type": "stream",
     "text": [
      "TensorFlow Version: 1.2.1\n",
      "Default GPU Device: /gpu:0\n"
     ]
    }
   ],
   "source": [
    "import os.path\n",
    "import tensorflow as tf\n",
    "import helper\n",
    "import warnings\n",
    "from distutils.version import LooseVersion\n",
    "import project_tests as tests\n",
    "import cv2\n",
    "import scipy.misc\n",
    "import imageio\n",
    "imageio.plugins.ffmpeg.download()\n",
    "from moviepy.editor import VideoFileClip\n",
    "from IPython.display import HTML\n",
    "import numpy as np\n",
    "import matplotlib.pyplot as plt\n",
    "\n",
    "# Check TensorFlow Version\n",
    "assert LooseVersion(tf.__version__) >= LooseVersion('1.0'), 'Please use TensorFlow version 1.0 or newer.  You are using {}'.format(tf.__version__)\n",
    "print('TensorFlow Version: {}'.format(tf.__version__))\n",
    "\n",
    "# Check for a GPU\n",
    "if not tf.test.gpu_device_name():\n",
    "    warnings.warn('No GPU found. Please use a GPU to train your neural network.')\n",
    "else:\n",
    "    print('Default GPU Device: {}'.format(tf.test.gpu_device_name()))\n"
   ]
  },
  {
   "cell_type": "code",
   "execution_count": null,
   "metadata": {},
   "outputs": [],
   "source": [
    "# flipping image\n",
    "image_shape = (160, 576)\n",
    "image_file = \"./data/data_road/testing/image_2/um_000001.png\"\n",
    "image = scipy.misc.imresize(scipy.misc.imread(image_file), image_shape)\n",
    "flip_img = np.flip(image, axis=1)\n",
    "\n",
    "plt.imshow(image)\n",
    "plt.show()\n",
    "plt.imshow(flip_img)\n",
    "plt.show()"
   ]
  },
  {
   "cell_type": "code",
   "execution_count": 6,
   "metadata": {
    "collapsed": true
   },
   "outputs": [],
   "source": [
    "image_shape = (160, 576)\n",
    "\n",
    "def process_image(image):\n",
    "    image = scipy.misc.imresize(image, image_shape)\n",
    "    session = tf.get_default_session()\n",
    "    \n",
    "    im_softmax = sess.run(\n",
    "        [tf.nn.softmax(logits)],\n",
    "        {keep_prob: 1.0, image_input: [image]})\n",
    "    im_softmax_road = im_softmax[0][:, 1].reshape(image_shape[0], image_shape[1])\n",
    "    segmentation_road = (im_softmax_road > 0.5).reshape(image_shape[0], image_shape[1], 1)\n",
    "\n",
    "    im_softmax_other_road = im_softmax[0][:, 2].reshape(image_shape[0], image_shape[1])\n",
    "    segmentation_other_road = (im_softmax_other_road > 0.5).reshape(image_shape[0], image_shape[1], 1)\n",
    "\n",
    "    # green road\n",
    "    mask_road = np.dot(segmentation_road, np.array([[0, 255, 0, 127]]))\n",
    "    mask_road = scipy.misc.toimage(mask_road, mode=\"RGBA\")\n",
    "\n",
    "    # blue other_road\n",
    "    mask_other_road = np.dot(segmentation_other_road, np.array([[0, 0, 255, 127]]))\n",
    "    mask_other_road = scipy.misc.toimage(mask_other_road, mode=\"RGBA\")\n",
    "\n",
    "    street_im = scipy.misc.toimage(image)\n",
    "    street_im.paste(mask_road, box=None, mask=mask_road)\n",
    "    street_im.paste(mask_other_road, box=None, mask=mask_other_road)\n",
    "\n",
    "    return np.array(street_im)"
   ]
  },
  {
   "cell_type": "code",
   "execution_count": 7,
   "metadata": {
    "scrolled": true
   },
   "outputs": [
    {
     "name": "stdout",
     "output_type": "stream",
     "text": [
      "INFO:tensorflow:Restoring parameters from ./mymodel_7.ckpt\n",
      "[MoviePy] >>>> Building video output.mp4\n",
      "[MoviePy] Writing video output.mp4\n"
     ]
    },
    {
     "name": "stderr",
     "output_type": "stream",
     "text": [
      "100%|█████████▉| 1260/1261 [23:31<00:01,  1.17s/it]"
     ]
    },
    {
     "name": "stdout",
     "output_type": "stream",
     "text": [
      "[MoviePy] Done.\n",
      "[MoviePy] >>>> Video ready: output.mp4 \n",
      "\n",
      "CPU times: user 14min 52s, sys: 9min 10s, total: 24min 3s\n",
      "Wall time: 23min 31s\n"
     ]
    },
    {
     "name": "stderr",
     "output_type": "stream",
     "text": [
      "\n"
     ]
    }
   ],
   "source": [
    "video_output = './video/output.mp4'\n",
    "clip = VideoFileClip('./video/project_video.mp4')\n",
    "\n",
    "with tf.Session() as sess:\n",
    "    \n",
    "    saver = tf.train.import_meta_graph('mymodel_8.ckpt.meta')\n",
    "    saver.restore(sess, tf.train.latest_checkpoint('.'))\n",
    "    graph = tf.get_default_graph()\n",
    "    logits = graph.get_tensor_by_name(\"logits:0\")\n",
    "    keep_prob = graph.get_tensor_by_name(\"keep_prob:0\")\n",
    "    image_input = graph.get_tensor_by_name(\"image_input:0\")\n",
    "   \n",
    "    project_clip = clip.fl_image(process_image)\n",
    "    %time project_clip.write_videofile(video_output, audio=False)"
   ]
  },
  {
   "cell_type": "code",
   "execution_count": 8,
   "metadata": {},
   "outputs": [
    {
     "data": {
      "text/html": [
       "\n",
       "<video width=\"960\" height=\"540\" controls>\n",
       "  <source src=\"output.mp4\">\n",
       "</video>\n"
      ],
      "text/plain": [
       "<IPython.core.display.HTML object>"
      ]
     },
     "execution_count": 8,
     "metadata": {},
     "output_type": "execute_result"
    }
   ],
   "source": [
    "HTML(\"\"\"\n",
    "<video width=\"960\" height=\"540\" controls>\n",
    "  <source src=\"{0}\">\n",
    "</video>\n",
    "\"\"\".format(video_output))"
   ]
  },
  {
   "cell_type": "code",
   "execution_count": null,
   "metadata": {
    "collapsed": true
   },
   "outputs": [],
   "source": []
  }
 ],
 "metadata": {
  "kernelspec": {
   "display_name": "Python 3",
   "language": "python",
   "name": "python3"
  },
  "language_info": {
   "codemirror_mode": {
    "name": "ipython",
    "version": 3
   },
   "file_extension": ".py",
   "mimetype": "text/x-python",
   "name": "python",
   "nbconvert_exporter": "python",
   "pygments_lexer": "ipython3",
   "version": "3.6.1"
  }
 },
 "nbformat": 4,
 "nbformat_minor": 2
}
