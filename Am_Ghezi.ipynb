{
 "cells": [
  {
   "cell_type": "code",
   "execution_count": 1,
   "metadata": {},
   "outputs": [
    {
     "name": "stdout",
     "output_type": "stream",
     "text": [
      "TensorFlow Version: 1.2.1\n",
      "Default GPU Device: /gpu:0\n"
     ]
    }
   ],
   "source": [
    "import os.path\n",
    "import tensorflow as tf\n",
    "import helper\n",
    "import warnings\n",
    "from distutils.version import LooseVersion\n",
    "import project_tests as tests\n",
    "import cv2\n",
    "import scipy.misc\n",
    "\n",
    "\n",
    "# Check TensorFlow Version\n",
    "assert LooseVersion(tf.__version__) >= LooseVersion('1.0'), 'Please use TensorFlow version 1.0 or newer.  You are using {}'.format(tf.__version__)\n",
    "print('TensorFlow Version: {}'.format(tf.__version__))\n",
    "\n",
    "# Check for a GPU\n",
    "if not tf.test.gpu_device_name():\n",
    "    warnings.warn('No GPU found. Please use a GPU to train your neural network.')\n",
    "else:\n",
    "    print('Default GPU Device: {}'.format(tf.test.gpu_device_name()))\n"
   ]
  },
  {
   "cell_type": "code",
   "execution_count": null,
   "metadata": {
    "collapsed": true
   },
   "outputs": [],
   "source": [
    "def load_vgg(sess, vgg_path):\n",
    "    \"\"\"\n",
    "    Load Pretrained VGG Model into TensorFlow.\n",
    "    :param sess: TensorFlow Session\n",
    "    :param vgg_path: Path to vgg folder, containing \"variables/\" and \"saved_model.pb\"\n",
    "    :return: Tuple of Tensors from VGG model (image_input, keep_prob, layer3_out, layer4_out, layer7_out)\n",
    "    \"\"\"\n",
    "    # TODO: Implement function\n",
    "    #   Use tf.saved_model.loader.load to load the model and weights\n",
    "    vgg_tag = 'vgg16'\n",
    "    vgg_input_tensor_name = 'image_input:0'\n",
    "    vgg_keep_prob_tensor_name = 'keep_prob:0'\n",
    "    vgg_layer3_out_tensor_name = 'layer3_out:0'\n",
    "    vgg_layer4_out_tensor_name = 'layer4_out:0'\n",
    "    vgg_layer7_out_tensor_name = 'layer7_out:0'\n",
    "    \n",
    "    tf.saved_model.loader.load(sess, [vgg_tag], vgg_path)\n",
    "    graph = tf.get_default_graph()\n",
    "    image_input = graph.get_tensor_by_name(vgg_input_tensor_name)\n",
    "    keep_prob = graph.get_tensor_by_name(vgg_keep_prob_tensor_name)\n",
    "    layer3_out = graph.get_tensor_by_name(vgg_layer3_out_tensor_name)\n",
    "    layer4_out = graph.get_tensor_by_name(vgg_layer4_out_tensor_name)\n",
    "    layer7_out = graph.get_tensor_by_name(vgg_layer7_out_tensor_name)\n",
    "    \n",
    "    return image_input, keep_prob, layer3_out, layer4_out, layer7_out\n",
    "\n",
    "# tests.test_load_vgg(load_vgg, tf)\n",
    "print(\"**\")"
   ]
  },
  {
   "cell_type": "code",
   "execution_count": null,
   "metadata": {
    "collapsed": true
   },
   "outputs": [],
   "source": [
    "def layers(vgg_layer3_out, vgg_layer4_out, vgg_layer7_out, num_classes):\n",
    "    \"\"\"\n",
    "    Create the layers for a fully convolutional network.  Build skip-layers using the vgg layers.\n",
    "    :param vgg_layer7_out: TF Tensor for VGG Layer 3 output\n",
    "    :param vgg_layer4_out: TF Tensor for VGG Layer 4 output\n",
    "    :param vgg_layer3_out: TF Tensor for VGG Layer 7 output\n",
    "    :param num_classes: Number of classes to classify\n",
    "    :return: The Tensor for the last layer of output\n",
    "    \"\"\"\n",
    "    # TODO: Implement function\n",
    "    conv1x1= tf.layers.conv2d(vgg_layer7_out, num_classes, kernel_size=(1,1), strides=(1,1), padding='SAME', kernel_regularizer=tf.contrib.layers.l2_regularizer(1e-3))\n",
    "    \n",
    "    layer4_decoder = tf.layers.conv2d_transpose(conv1x1, num_classes, kernel_size=(4,4), strides=(2,2), padding='SAME',\\\n",
    "                                       kernel_regularizer=tf.contrib.layers.l2_regularizer(1e-3))\n",
    "    vgg_layer4_out = tf.layers.conv2d(vgg_layer4_out, num_classes, kernel_size=(1,1), padding='SAME', kernel_regularizer=tf.contrib.layers.l2_regularizer(1e-3))\n",
    "    \n",
    "    layer4_decoder = tf.add(layer4_decoder, vgg_layer4_out)\n",
    "    \n",
    "    layer3_decoder = tf.layers.conv2d_transpose(layer4_decoder, num_classes, kernel_size=(4,4), strides=(2,2), padding='SAME',\\\n",
    "                                       kernel_regularizer=tf.contrib.layers.l2_regularizer(1e-3))\n",
    "    \n",
    "    vgg_layer3_out = tf.layers.conv2d(vgg_layer3_out, num_classes, kernel_size=(1,1), padding='SAME', kernel_regularizer=tf.contrib.layers.l2_regularizer(1e-3))\n",
    "    \n",
    "    layer3_decoder = tf.add(layer3_decoder, vgg_layer3_out)\n",
    "    \n",
    "    output = tf.layers.conv2d_transpose(layer3_decoder, num_classes, kernel_size=(16,16), strides=(8,8), padding='SAME', \\\n",
    "                                       kernel_regularizer=tf.contrib.layers.l2_regularizer(1e-3))\n",
    "    \n",
    "    return output\n",
    "# tests.test_layers(layers)"
   ]
  },
  {
   "cell_type": "code",
   "execution_count": null,
   "metadata": {
    "collapsed": true
   },
   "outputs": [],
   "source": [
    "def optimize(nn_last_layer, correct_label, learning_rate, num_classes):\n",
    "    \"\"\"\n",
    "    Build the TensorFLow loss and optimizer operations.\n",
    "    :param nn_last_layer: TF Tensor of the last layer in the neural network\n",
    "    :param correct_label: TF Placeholder for the correct label image\n",
    "    :param learning_rate: TF Placeholder for the learning rate\n",
    "    :param num_classes: Number of classes to classify\n",
    "    :return: Tuple of (logits, train_op, cross_entropy_loss)\n",
    "    \"\"\"\n",
    "    # TODO: Implement function\n",
    "    correct_label = tf.reshape(correct_label, (-1,num_classes))\n",
    "    logits = tf.reshape(nn_last_layer, (-1, num_classes))\n",
    "    cross_entropy_loss = tf.reduce_mean(tf.nn.softmax_cross_entropy_with_logits(logits=logits, labels=correct_label))\n",
    "    train_op = tf.train.AdamOptimizer(learning_rate).minimize(cross_entropy_loss) \n",
    "\n",
    "    return logits, train_op, cross_entropy_loss\n",
    "# tests.test_optimize(optimize)"
   ]
  },
  {
   "cell_type": "code",
   "execution_count": null,
   "metadata": {
    "collapsed": true
   },
   "outputs": [],
   "source": [
    "def convert_color(img, conv='RGB2YCrCb'):\n",
    "    if conv == 'RGB2YCrCb':\n",
    "        return cv2.cvtColor(img, cv2.COLOR_RGB2YCrCb)\n",
    "    if conv == 'BGR2YCrCb':\n",
    "        return cv2.cvtColor(img, cv2.COLOR_BGR2YCrCb)\n",
    "    if conv == 'LUV':\n",
    "        return cv2.cvtColor(img, cv2.COLOR_RGB2LUV)\n",
    "    if conv == 'HSV':\n",
    "        return cv2.cvtColor(img, cv2.COLOR_RGB2HSV)\n",
    "    if conv == 'HLS':\n",
    "        return cv2.cvtColor(img, cv2.COLOR_RGB2HLS)\n",
    "    if conv == 'YUV':\n",
    "        return cv2.cvtColor(img, cv2.COLOR_RGB2YUV)\n",
    "    if conv == 'BGR':\n",
    "        return cv2.cvtColor(img, cv2.COLOR_RGB2BGR)"
   ]
  },
  {
   "cell_type": "code",
   "execution_count": null,
   "metadata": {
    "collapsed": true
   },
   "outputs": [],
   "source": [
    "import numpy as np\n",
    "image_shape = (160, 576)\n",
    "image_file = \"./data/data_road/testing/image_2/um_000001.png\"\n",
    "image = scipy.misc.imresize(scipy.misc.imread(image_file), image_shape)\n",
    "flip_img = np.flip(image, axis=1)\n",
    "# image = convert_color(image, \"HLS\")\n",
    "import matplotlib.pyplot as plt\n",
    "plt.imshow(image)\n",
    "plt.show()\n",
    "plt.imshow(flip_img)\n",
    "plt.show()"
   ]
  },
  {
   "cell_type": "code",
   "execution_count": null,
   "metadata": {
    "collapsed": true,
    "scrolled": false
   },
   "outputs": [],
   "source": [
    "from glob import glob\n",
    "import numpy as np\n",
    "import shutil\n",
    "import random\n",
    "import re\n",
    "batch_size = 32\n",
    "data_folder = './data/data_road/training'\n",
    "image_paths = glob(os.path.join(data_folder, 'image_2', '*.png'))\n",
    "label_paths = {\n",
    "    re.sub(r'_(lane|road)_', '_', os.path.basename(path)): path\n",
    "    for path in glob(os.path.join(data_folder, 'gt_image_2', '*_road_*.png'))}\n",
    "background_color = np.array([255, 0, 0])\n",
    "other_road_color = np.array([0,0,0])\n",
    "random.shuffle(image_paths)\n",
    "print(len(image_paths))\n",
    "print()\n",
    "for batch_i in range(0, len(image_paths), batch_size):\n",
    "    images = []\n",
    "    gt_images = []\n",
    "    #print(batch_i, \" , \",batch_i, \" : \",batch_i+batch_size ,\",\", len(image_paths[batch_i:batch_i+batch_size]))\n",
    "    for image_file in image_paths[batch_i:batch_i+batch_size]:\n",
    "        image_file =\"./data/data_road/training/image_2/um_000009.png\"\n",
    "        gt_image_file = label_paths[os.path.basename(image_file)]\n",
    "\n",
    "        image = scipy.misc.imresize(scipy.misc.imread(image_file), image_shape)\n",
    "#         image = convert_color(image)\n",
    "        plt.imshow(image)\n",
    "        plt.show()\n",
    "        gt_image = scipy.misc.imresize(scipy.misc.imread(gt_image_file), image_shape)\n",
    "\n",
    "        gt_image_flip = np.flip(gt_image, axis=1)\n",
    "        print(\"ground truth\")\n",
    "        plt.imshow(gt_image)\n",
    "        plt.show()\n",
    "        plt.imshow(gt_image_flip)\n",
    "        plt.show()\n",
    "        \n",
    "        gt_bg = np.all(gt_image == background_color, axis=2)\n",
    "        gt_bg_flip = np.all(gt_image_flip == background_color, axis=2)\n",
    "        print(\"background\")\n",
    "        plt.imshow(gt_bg, cmap=\"gray\")\n",
    "        plt.show()\n",
    "        plt.imshow(gt_bg_flip, cmap=\"gray\")\n",
    "        plt.show()\n",
    "        \n",
    "        print(\"road\")\n",
    "        r_mask = ((gt_image == other_road_color) | (gt_image == background_color))\n",
    "        r_mask_flip = ((gt_image_flip == other_road_color) | (gt_image_flip == background_color))\n",
    "        gt_r = np.invert(np.all(r_mask, axis=2))\n",
    "        gt_r_flip = np.invert(np.all(r_mask_flip, axis=2))\n",
    "        plt.imshow(gt_r, cmap=\"gray\")\n",
    "        plt.show()\n",
    "        plt.imshow(gt_r_flip, cmap=\"gray\")\n",
    "        plt.show()\n",
    "        \n",
    "        \n",
    "        print(\"other_road\")\n",
    "        or_mask = (gt_image == other_road_color)\n",
    "        or_mask_flip = (gt_image_flip == other_road_color)\n",
    "        gt_or = np.all(or_mask, axis=2)\n",
    "        gt_or_flip = np.all(or_mask_flip, axis=2)\n",
    "        plt.imshow(gt_or, cmap=\"gray\")\n",
    "        plt.show()\n",
    "        plt.imshow(gt_or_flip, cmap=\"gray\")\n",
    "        plt.show()\n",
    "       \n",
    "        gt_bg = gt_bg.reshape(*gt_bg.shape, 1)\n",
    "        gt_or = gt_or.reshape(*gt_or.shape, 1)\n",
    "        gt_r = gt_r.reshape(*gt_r.shape, 1)\n",
    "        gt_image = np.concatenate((gt_bg, gt_r,gt_or), axis=2)\n",
    "        print(gt_image)\n",
    "        print(X)"
   ]
  },
  {
   "cell_type": "code",
   "execution_count": null,
   "metadata": {
    "collapsed": true
   },
   "outputs": [],
   "source": [
    "\n",
    "print(\"**\")\n",
    "def train_nn(sess, epochs, batch_size, get_batches_fn, train_op, cross_entropy_loss, input_image,\n",
    "             correct_label, keep_prob, learning_rate):\n",
    "    \"\"\"\n",
    "    Train neural network and print out the loss during training.\n",
    "    :param sess: TF Session\n",
    "    :param epochs: Number of epochs\n",
    "    :param batch_size: Batch size\n",
    "    :param get_batches_fn: Function to get batches of training data.  Call using get_batches_fn(batch_size)\n",
    "    :param train_op: TF Operation to train the neural network\n",
    "    :param cross_entropy_loss: TF Tensor for the amount of loss\n",
    "    :param input_image: TF Placeholder for input images\n",
    "    :param correct_label: TF Placeholder for label images\n",
    "    :param keep_prob: TF Placeholder for dropout keep probability\n",
    "    :param learning_rate: TF Placeholder for learning rate\n",
    "    \"\"\"\n",
    "    sess.run(tf.global_variables_initializer())\n",
    "    # TODO: Implement function\n",
    "    for epoch in range(0, epochs):\n",
    "        for train_images, train_labels in get_batches_fn(batch_size):\n",
    "            sess.run(train_op, feed_dict={correct_label: train_labels, \n",
    "                                          input_image: train_images, \n",
    "                                          learning_rate: 0.001,\n",
    "                                          keep_prob: 0.5})\n",
    "    \n",
    "# tests.test_train_nn(train_nn)"
   ]
  },
  {
   "cell_type": "code",
   "execution_count": null,
   "metadata": {
    "collapsed": true
   },
   "outputs": [],
   "source": [
    "\n",
    "def run():\n",
    "    num_classes = 2\n",
    "    image_shape = (160, 576)\n",
    "    data_dir = './data'\n",
    "    runs_dir = './runs'\n",
    "    tests.test_for_kitti_dataset(data_dir)\n",
    "    batch_size = 32\n",
    "    epochs = 10\n",
    "    \n",
    "    # Download pretrained vgg model\n",
    "    helper.maybe_download_pretrained_vgg(data_dir)\n",
    "\n",
    "    # OPTIONAL: Train and Inference on the cityscapes dataset instead of the Kitti dataset.\n",
    "    # You'll need a GPU with at least 10 teraFLOPS to train on.\n",
    "    #  https://www.cityscapes-dataset.com/\n",
    "    \n",
    "    \n",
    "    with tf.Session() as sess:\n",
    "        tf.global_variables_initializer()\n",
    "        #tf.local_variables_initializer()\n",
    "        \n",
    "        # Path to vgg model\n",
    "        vgg_path = os.path.join(data_dir, 'vgg')\n",
    "        # Create function to get batches\n",
    "        get_batches_fn = helper.gen_batch_function(os.path.join(data_dir, 'data_road/training'), image_shape)\n",
    "\n",
    "        # OPTIONAL: Augment Images for better results\n",
    "        #  https://datascience.stackexchange.com/questions/5224/how-to-prepare-augment-images-for-neural-network\n",
    "\n",
    "        # TODO: Build NN using load_vgg, layers, and optimize function\n",
    "        input_image, keep_prob, vgg_layer3_out, vgg_layer4_out, vgg_layer7_out = load_vgg(sess, vgg_path)\n",
    "        nn_last_layer = layers(vgg_layer3_out, vgg_layer4_out, vgg_layer7_out, num_classes)\n",
    "        \n",
    "        learning_rate = tf.placeholder(dtype=tf.float32)\n",
    "        correct_label = tf.placeholder(dtype=tf.int32, shape=[None, None, None, num_classes])\n",
    "        \n",
    "        logits, train_op, cross_entropy_loss = optimize(nn_last_layer,  correct_label, learning_rate, num_classes)\n",
    "        \n",
    "        # TODO: Train NN using the train_nn function\n",
    "        train_nn(sess, epochs, batch_size, get_batches_fn, train_op, cross_entropy_loss, input_image,\\\n",
    "                 correct_label, keep_prob, learning_rate)\n",
    "        # TODO: Save inference data using helper.save_inference_samples\n",
    "        helper.save_inference_samples(runs_dir, data_dir, sess, image_shape, logits, keep_prob, input_image)\n",
    "\n",
    "        # OPTIONAL: Apply the trained model to a video\n",
    "\n"
   ]
  },
  {
   "cell_type": "code",
   "execution_count": null,
   "metadata": {
    "collapsed": true
   },
   "outputs": [],
   "source": [
    "run()"
   ]
  },
  {
   "cell_type": "code",
   "execution_count": 6,
   "metadata": {
    "collapsed": true
   },
   "outputs": [],
   "source": [
    "import scipy.misc\n",
    "import numpy as np\n",
    "\n",
    "image_shape = (160, 576)\n",
    "\n",
    "def process_image(image):\n",
    "#     print(type(image), \" \", image.shape)\n",
    "#     image = np.resize(image,image_shape)\n",
    "    image = scipy.misc.imresize(image, image_shape)\n",
    "    session = tf.get_default_session()\n",
    "    \n",
    "    im_softmax = sess.run(\n",
    "        [tf.nn.softmax(logits)],\n",
    "        {keep_prob: 1.0, image_input: [image]})\n",
    "    im_softmax_road = im_softmax[0][:, 1].reshape(image_shape[0], image_shape[1])\n",
    "    segmentation_road = (im_softmax_road > 0.5).reshape(image_shape[0], image_shape[1], 1)\n",
    "\n",
    "    im_softmax_other_road = im_softmax[0][:, 2].reshape(image_shape[0], image_shape[1])\n",
    "    segmentation_other_road = (im_softmax_other_road > 0.5).reshape(image_shape[0], image_shape[1], 1)\n",
    "\n",
    "    mask_road = np.dot(segmentation_road, np.array([[0, 255, 0, 127]]))\n",
    "    mask_road = scipy.misc.toimage(mask_road, mode=\"RGBA\")\n",
    "\n",
    "    mask_other_road = np.dot(segmentation_other_road, np.array([[0, 0, 255, 127]]))\n",
    "    mask_other_road = scipy.misc.toimage(mask_other_road, mode=\"RGBA\")\n",
    "\n",
    "    street_im = scipy.misc.toimage(image)\n",
    "    street_im.paste(mask_road, box=None, mask=mask_road)\n",
    "    street_im.paste(mask_other_road, box=None, mask=mask_other_road)\n",
    "\n",
    "    \n",
    "    \n",
    "    \n",
    "\n",
    "    return np.array(street_im)"
   ]
  },
  {
   "cell_type": "code",
   "execution_count": null,
   "metadata": {
    "collapsed": true
   },
   "outputs": [],
   "source": []
  },
  {
   "cell_type": "code",
   "execution_count": 4,
   "metadata": {
    "collapsed": true
   },
   "outputs": [],
   "source": [
    "import imageio\n",
    "imageio.plugins.ffmpeg.download()\n",
    "from moviepy.editor import VideoFileClip\n",
    "from IPython.display import HTML"
   ]
  },
  {
   "cell_type": "code",
   "execution_count": 7,
   "metadata": {
    "scrolled": true
   },
   "outputs": [
    {
     "name": "stdout",
     "output_type": "stream",
     "text": [
      "INFO:tensorflow:Restoring parameters from ./mymodel_7.ckpt\n",
      "[MoviePy] >>>> Building video output.mp4\n",
      "[MoviePy] Writing video output.mp4\n"
     ]
    },
    {
     "name": "stderr",
     "output_type": "stream",
     "text": [
      "100%|█████████▉| 1260/1261 [23:31<00:01,  1.17s/it]"
     ]
    },
    {
     "name": "stdout",
     "output_type": "stream",
     "text": [
      "[MoviePy] Done.\n",
      "[MoviePy] >>>> Video ready: output.mp4 \n",
      "\n",
      "CPU times: user 14min 52s, sys: 9min 10s, total: 24min 3s\n",
      "Wall time: 23min 31s\n"
     ]
    },
    {
     "name": "stderr",
     "output_type": "stream",
     "text": [
      "\n"
     ]
    }
   ],
   "source": [
    "video_output = 'output.mp4'\n",
    "clip = VideoFileClip('./video/project_video.mp4')\n",
    "\n",
    "with tf.Session() as sess:\n",
    "    \n",
    "    saver = tf.train.import_meta_graph('mymodel_7.ckpt.meta')\n",
    "    saver.restore(sess, tf.train.latest_checkpoint('.'))\n",
    "    graph = tf.get_default_graph()\n",
    "    logits = graph.get_tensor_by_name(\"logits:0\")\n",
    "    keep_prob = graph.get_tensor_by_name(\"keep_prob:0\")\n",
    "    image_input = graph.get_tensor_by_name(\"image_input:0\")\n",
    "#     image_file = \"./data/data_road/training/image_2/um_000012.png\"\n",
    "#     image = scipy.misc.imresize(scipy.misc.imread(image_file), image_shape)\n",
    "#     im = process_image(image)\n",
    "   \n",
    "    project_clip = clip.fl_image(process_image)\n",
    "    %time project_clip.write_videofile(video_output, audio=False)"
   ]
  },
  {
   "cell_type": "code",
   "execution_count": 8,
   "metadata": {},
   "outputs": [
    {
     "data": {
      "text/html": [
       "\n",
       "<video width=\"960\" height=\"540\" controls>\n",
       "  <source src=\"output.mp4\">\n",
       "</video>\n"
      ],
      "text/plain": [
       "<IPython.core.display.HTML object>"
      ]
     },
     "execution_count": 8,
     "metadata": {},
     "output_type": "execute_result"
    }
   ],
   "source": [
    "HTML(\"\"\"\n",
    "<video width=\"960\" height=\"540\" controls>\n",
    "  <source src=\"{0}\">\n",
    "</video>\n",
    "\"\"\".format(video_output))"
   ]
  },
  {
   "cell_type": "code",
   "execution_count": null,
   "metadata": {
    "collapsed": true
   },
   "outputs": [],
   "source": []
  }
 ],
 "metadata": {
  "kernelspec": {
   "display_name": "Python 3",
   "language": "python",
   "name": "python3"
  },
  "language_info": {
   "codemirror_mode": {
    "name": "ipython",
    "version": 3
   },
   "file_extension": ".py",
   "mimetype": "text/x-python",
   "name": "python",
   "nbconvert_exporter": "python",
   "pygments_lexer": "ipython3",
   "version": "3.6.1"
  }
 },
 "nbformat": 4,
 "nbformat_minor": 2
}
